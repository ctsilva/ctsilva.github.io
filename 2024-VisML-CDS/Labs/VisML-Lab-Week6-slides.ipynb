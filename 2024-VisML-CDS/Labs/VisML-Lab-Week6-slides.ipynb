{
  "cells": [
    {
      "cell_type": "raw",
      "metadata": {},
      "source": [
        "---\n",
        "title: \"Welcome back to the Visualization for Machine Learning Lab!\"\n",
        "subtitle: \"Week 6: Interpreting Black Box Models with LIME AND SHAP\"\n",
        "format:\n",
        "  revealjs: \n",
        "    slide-number: true\n",
        "    chalkboard: \n",
        "      buttons: false\n",
        "    preview-links: auto\n",
        "    css: styles.css\n",
        "resources:\n",
        "  - demo.pdf\n",
        "---"
      ],
      "id": "c1ede3d8"
    },
    {
      "cell_type": "markdown",
      "metadata": {},
      "source": [
        "## Miscellaneous \n",
        "\n",
        "## Principle Component Analysis \n",
        "\n",
        "## LIME\n",
        "\n",
        "## Iris Dataset Example\n"
      ],
      "id": "f7442240"
    },
    {
      "cell_type": "code",
      "metadata": {},
      "source": [
        "import pandas as pd, numpy as np\n",
        "from sklearn import datasets\n",
        "from sklearn.decomposition import PCA\n",
        "from matplotlib import pyplot as plt\n",
        "\n",
        "data = datasets.load_iris()\n",
        "\n",
        "X = pd.DataFrame(data.data, columns=data.feature_names)\n",
        "y = data.target\n",
        "\n",
        "X.describe()"
      ],
      "id": "07ddea39",
      "execution_count": null,
      "outputs": []
    },
    {
      "cell_type": "markdown",
      "metadata": {},
      "source": [
        "## SHAP"
      ],
      "id": "07bc7c0f"
    }
  ],
  "metadata": {
    "kernelspec": {
      "name": "pigeon",
      "language": "python",
      "display_name": "pigeon"
    }
  },
  "nbformat": 4,
  "nbformat_minor": 5
}